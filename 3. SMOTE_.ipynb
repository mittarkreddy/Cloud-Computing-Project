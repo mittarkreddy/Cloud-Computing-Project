{
  "nbformat": 4,
  "nbformat_minor": 0,
  "metadata": {
    "colab": {
      "provenance": []
    },
    "kernelspec": {
      "name": "python3",
      "display_name": "Python 3"
    },
    "language_info": {
      "name": "python"
    },
    "gpuClass": "standard"
  },
  "cells": [
    {
      "cell_type": "code",
      "execution_count": null,
      "metadata": {
        "colab": {
          "base_uri": "https://localhost:8080/"
        },
        "id": "XcZa6cShNgmH",
        "outputId": "4b0db664-0bef-490e-950f-0fd0c4a91235"
      },
      "outputs": [
        {
          "output_type": "stream",
          "name": "stdout",
          "text": [
            "Mounted at /content/drive\n"
          ]
        }
      ],
      "source": [
        "from google.colab import drive\n",
        "drive.mount('/content/drive', force_remount=True)\n",
        "\n",
        "import os\n",
        "data_path = '/content/drive/My Drive'\n",
        "os.chdir(data_path)"
      ]
    },
    {
      "cell_type": "code",
      "source": [
        "import pandas as pd\n",
        "import numpy as np"
      ],
      "metadata": {
        "id": "KJ-TzBFANl-v"
      },
      "execution_count": null,
      "outputs": []
    },
    {
      "cell_type": "code",
      "source": [
        "df = pd.read_csv(\"Patient_Survival_Final_Dataset.csv\")"
      ],
      "metadata": {
        "id": "-xamBnKnyFsB"
      },
      "execution_count": null,
      "outputs": []
    },
    {
      "cell_type": "code",
      "source": [
        "df['apache_3j_bodysystem'].value_counts()"
      ],
      "metadata": {
        "id": "D41lsNeTyPms",
        "colab": {
          "base_uri": "https://localhost:8080/"
        },
        "outputId": "573b5680-25e3-40cc-dbfc-546e4c6699da"
      },
      "execution_count": null,
      "outputs": [
        {
          "output_type": "execute_result",
          "data": {
            "text/plain": [
              "Cardiovascular          19310\n",
              "Sepsis                   9214\n",
              "Respiratory              8523\n",
              "Neurological             8260\n",
              "Gastrointestinal         6598\n",
              "Metabolic                5813\n",
              "Trauma                   2729\n",
              "Genitourinary            1626\n",
              "Musculoskeletal/Skin      787\n",
              "Hematological             465\n",
              "Gynecological             211\n",
              "Name: apache_3j_bodysystem, dtype: int64"
            ]
          },
          "metadata": {},
          "execution_count": 4
        }
      ]
    },
    {
      "cell_type": "code",
      "source": [
        "from sklearn.preprocessing import LabelEncoder\n",
        "\n",
        "# Create a list of categorical variables\n",
        "categorical_vars = ['gender', 'icu_admit_source', 'icu_type', 'apache_3j_bodysystem', 'apache_2_bodysystem']\n",
        "\n",
        "# Create an instance of LabelEncoder\n",
        "le = LabelEncoder()\n",
        "\n",
        "# Encode each categorical variable\n",
        "for var in categorical_vars:\n",
        "    encoded_var = le.fit_transform(df[var])\n",
        "    df[var] = encoded_var\n",
        "\n"
      ],
      "metadata": {
        "id": "QCtmGZ7x2hiC"
      },
      "execution_count": null,
      "outputs": []
    },
    {
      "cell_type": "code",
      "source": [
        "# View the encoded dataframe\n",
        "len(df)"
      ],
      "metadata": {
        "colab": {
          "base_uri": "https://localhost:8080/"
        },
        "id": "0MVj3_2oC2Kf",
        "outputId": "6ba69085-3d18-4aae-b362-465673fdb2d7"
      },
      "execution_count": null,
      "outputs": [
        {
          "output_type": "execute_result",
          "data": {
            "text/plain": [
              "63536"
            ]
          },
          "metadata": {},
          "execution_count": 5
        }
      ]
    },
    {
      "cell_type": "code",
      "source": [
        "df['hospital_death'].value_counts()"
      ],
      "metadata": {
        "colab": {
          "base_uri": "https://localhost:8080/"
        },
        "id": "THLtx9fHpqoT",
        "outputId": "2104cc30-55e8-44fa-f518-152d9acdc5cd"
      },
      "execution_count": null,
      "outputs": [
        {
          "output_type": "execute_result",
          "data": {
            "text/plain": [
              "0    58176\n",
              "1     5360\n",
              "Name: hospital_death, dtype: int64"
            ]
          },
          "metadata": {},
          "execution_count": 6
        }
      ]
    },
    {
      "cell_type": "code",
      "source": [
        "X = df.drop('hospital_death', axis = 1)"
      ],
      "metadata": {
        "id": "t9K0K5shyZaP"
      },
      "execution_count": null,
      "outputs": []
    },
    {
      "cell_type": "code",
      "source": [
        "y = df[['hospital_death']]"
      ],
      "metadata": {
        "id": "uDmFhLMPytpe"
      },
      "execution_count": null,
      "outputs": []
    },
    {
      "cell_type": "code",
      "source": [
        "from sklearn.model_selection import train_test_split\n",
        "\n",
        "X_train, X_test, y_train, y_test = train_test_split(X, y, test_size=0.3, random_state=1254)"
      ],
      "metadata": {
        "id": "rFzs6Gslyz07"
      },
      "execution_count": null,
      "outputs": []
    },
    {
      "cell_type": "code",
      "source": [
        "len(X_train)"
      ],
      "metadata": {
        "colab": {
          "base_uri": "https://localhost:8080/"
        },
        "id": "PqFjsbFliMdc",
        "outputId": "ed0c0b94-2670-45f9-ae67-1990db33c99c"
      },
      "execution_count": null,
      "outputs": [
        {
          "output_type": "execute_result",
          "data": {
            "text/plain": [
              "44475"
            ]
          },
          "metadata": {},
          "execution_count": 10
        }
      ]
    },
    {
      "cell_type": "code",
      "source": [
        "from imblearn.over_sampling import SMOTE\n",
        "\n",
        "sm = SMOTE(random_state=12, sampling_strategy=1)\n",
        "\n",
        "X_res, y_res = sm.fit_resample(X_train, y_train)\n"
      ],
      "metadata": {
        "id": "EToL0sjTy3kT"
      },
      "execution_count": null,
      "outputs": []
    },
    {
      "cell_type": "code",
      "source": [
        "df_resampled_train = pd.concat([pd.DataFrame(X_res), pd.DataFrame(y_res)], axis=1)\n"
      ],
      "metadata": {
        "id": "RIIemALJEPj-"
      },
      "execution_count": null,
      "outputs": []
    },
    {
      "cell_type": "code",
      "source": [
        "len(df_resampled_train)"
      ],
      "metadata": {
        "colab": {
          "base_uri": "https://localhost:8080/"
        },
        "id": "c7Feg6E5jwms",
        "outputId": "daa4868a-f384-48b2-de10-fa852eab3771"
      },
      "execution_count": null,
      "outputs": [
        {
          "output_type": "execute_result",
          "data": {
            "text/plain": [
              "81390"
            ]
          },
          "metadata": {},
          "execution_count": 13
        }
      ]
    },
    {
      "cell_type": "code",
      "source": [
        "df_resampled_train['hospital_death'].value_counts()"
      ],
      "metadata": {
        "colab": {
          "base_uri": "https://localhost:8080/"
        },
        "id": "7LbrkqXgETK4",
        "outputId": "2f1954ab-806f-41d0-b58e-7fbdc88faf78"
      },
      "execution_count": null,
      "outputs": [
        {
          "output_type": "execute_result",
          "data": {
            "text/plain": [
              "1    40695\n",
              "0    40695\n",
              "Name: hospital_death, dtype: int64"
            ]
          },
          "metadata": {},
          "execution_count": 14
        }
      ]
    },
    {
      "cell_type": "code",
      "source": [
        "df_resampled_train"
      ],
      "metadata": {
        "id": "OEkk3z7mEmtC"
      },
      "execution_count": null,
      "outputs": []
    },
    {
      "cell_type": "code",
      "source": [
        "df_train = pd.concat([pd.DataFrame(X_train), pd.DataFrame(y_train)], axis=1)\n"
      ],
      "metadata": {
        "id": "FLQh7pHBvaY4"
      },
      "execution_count": null,
      "outputs": []
    },
    {
      "cell_type": "code",
      "source": [
        "df_train['hospital_death'].value_counts()"
      ],
      "metadata": {
        "id": "HwmtwnejqPIq",
        "outputId": "793d9d4a-1b76-4f11-d88a-406b91decddb",
        "colab": {
          "base_uri": "https://localhost:8080/"
        }
      },
      "execution_count": null,
      "outputs": [
        {
          "output_type": "execute_result",
          "data": {
            "text/plain": [
              "0    40695\n",
              "1     3780\n",
              "Name: hospital_death, dtype: int64"
            ]
          },
          "metadata": {},
          "execution_count": 17
        }
      ]
    },
    {
      "cell_type": "code",
      "source": [
        "df_test = pd.concat([pd.DataFrame(X_test), pd.DataFrame(y_test)], axis=1)\n"
      ],
      "metadata": {
        "id": "kdljbmQrFHGa"
      },
      "execution_count": null,
      "outputs": []
    },
    {
      "cell_type": "code",
      "source": [
        "len(df_test)"
      ],
      "metadata": {
        "colab": {
          "base_uri": "https://localhost:8080/"
        },
        "id": "9U_7B7dGFIsp",
        "outputId": "ff8665c0-8e56-4a9e-bc3f-8dff7b72cbda"
      },
      "execution_count": null,
      "outputs": [
        {
          "output_type": "execute_result",
          "data": {
            "text/plain": [
              "19061"
            ]
          },
          "metadata": {},
          "execution_count": 19
        }
      ]
    },
    {
      "cell_type": "code",
      "source": [
        "len(df_train)"
      ],
      "metadata": {
        "colab": {
          "base_uri": "https://localhost:8080/"
        },
        "id": "R78X2VRvv3GL",
        "outputId": "b47160ba-8064-41de-9049-57a221fa941e"
      },
      "execution_count": null,
      "outputs": [
        {
          "output_type": "execute_result",
          "data": {
            "text/plain": [
              "44475"
            ]
          },
          "metadata": {},
          "execution_count": 20
        }
      ]
    },
    {
      "cell_type": "code",
      "source": [
        "len(df_test)"
      ],
      "metadata": {
        "colab": {
          "base_uri": "https://localhost:8080/"
        },
        "id": "VF2xUJkPv8DL",
        "outputId": "ccb0cd09-26a6-4dc5-f4de-8609a07d9fa7"
      },
      "execution_count": null,
      "outputs": [
        {
          "output_type": "execute_result",
          "data": {
            "text/plain": [
              "19061"
            ]
          },
          "metadata": {},
          "execution_count": 21
        }
      ]
    },
    {
      "cell_type": "code",
      "source": [
        "len(df_resampled_train)"
      ],
      "metadata": {
        "colab": {
          "base_uri": "https://localhost:8080/"
        },
        "id": "XZbnWmxBv_rv",
        "outputId": "1491544f-e583-47bf-94c6-214b1eb6b929"
      },
      "execution_count": null,
      "outputs": [
        {
          "output_type": "execute_result",
          "data": {
            "text/plain": [
              "81390"
            ]
          },
          "metadata": {},
          "execution_count": 22
        }
      ]
    },
    {
      "cell_type": "code",
      "source": [
        "df_train"
      ],
      "metadata": {
        "id": "xOR7L6yNwhZR"
      },
      "execution_count": null,
      "outputs": []
    },
    {
      "cell_type": "code",
      "source": [
        "df_train.to_csv('Patient_nonresampled_traindata_2.csv', index=False)"
      ],
      "metadata": {
        "id": "KpR0M5Ujvlfv"
      },
      "execution_count": null,
      "outputs": []
    },
    {
      "cell_type": "code",
      "source": [
        "df_resampled_train.to_csv('Patient_resampled_traindata_2.csv', index=False)\n"
      ],
      "metadata": {
        "id": "ASf2YVnzkAHT"
      },
      "execution_count": null,
      "outputs": []
    },
    {
      "cell_type": "code",
      "source": [
        "df_test.to_csv('Patient_non_resampled_testdata_2.csv', index=False)\n"
      ],
      "metadata": {
        "id": "cDFe-z3ukFzN"
      },
      "execution_count": null,
      "outputs": []
    },
    {
      "cell_type": "code",
      "source": [],
      "metadata": {
        "id": "emF9WzvdkJqV"
      },
      "execution_count": null,
      "outputs": []
    }
  ]
}