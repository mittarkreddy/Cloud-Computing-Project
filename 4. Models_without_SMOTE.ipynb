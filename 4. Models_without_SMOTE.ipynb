{
  "nbformat": 4,
  "nbformat_minor": 0,
  "metadata": {
    "colab": {
      "provenance": [],
      "collapsed_sections": [
        "uZUkukVcnLHc"
      ],
      "gpuType": "T4"
    },
    "kernelspec": {
      "name": "python3",
      "display_name": "Python 3"
    },
    "language_info": {
      "name": "python"
    },
    "accelerator": "GPU",
    "gpuClass": "standard"
  },
  "cells": [
    {
      "cell_type": "code",
      "execution_count": 1,
      "metadata": {
        "id": "7WXvXilflS_E"
      },
      "outputs": [],
      "source": [
        "!apt-get install openjdk-8-jdk-headless -qq > /dev/null\n",
        "!wget -q https://archive.apache.org/dist/spark/spark-3.2.0/spark-3.2.0-bin-hadoop3.2.tgz\n",
        "!tar xf spark-3.2.0-bin-hadoop3.2.tgz\n",
        "!pip install -q findspark"
      ]
    },
    {
      "cell_type": "code",
      "source": [
        "import os\n",
        "os.environ[\"JAVA_HOME\"] = \"/usr/lib/jvm/java-8-openjdk-amd64\"\n",
        "os.environ[\"SPARK_HOME\"] = \"spark-3.2.0-bin-hadoop3.2\""
      ],
      "metadata": {
        "id": "uNOBpTM0lVKB"
      },
      "execution_count": 2,
      "outputs": []
    },
    {
      "cell_type": "code",
      "source": [
        "import findspark\n",
        "findspark.init()"
      ],
      "metadata": {
        "id": "TKT2QpqFlX6_"
      },
      "execution_count": 3,
      "outputs": []
    },
    {
      "cell_type": "code",
      "source": [
        "from pyspark.sql import SparkSession\n",
        "\n",
        "spark = SparkSession.builder \\\n",
        "    .appName(\"MyApp\") \\\n",
        "    .config(\"spark.driver.memory\", \"8g\") \\\n",
        "    .config(\"spark.executor.memory\", \"8g\") \\\n",
        "    .getOrCreate()\n",
        "sc = spark.sparkContext\n",
        "sc"
      ],
      "metadata": {
        "colab": {
          "base_uri": "https://localhost:8080/",
          "height": 197
        },
        "id": "Cvz7Wy99lZkc",
        "outputId": "4493917e-e015-417d-8c06-2021029fbc51"
      },
      "execution_count": 4,
      "outputs": [
        {
          "output_type": "execute_result",
          "data": {
            "text/plain": [
              "<SparkContext master=local[*] appName=MyApp>"
            ],
            "text/html": [
              "\n",
              "        <div>\n",
              "            <p><b>SparkContext</b></p>\n",
              "\n",
              "            <p><a href=\"http://dda90ae903f5:4040\">Spark UI</a></p>\n",
              "\n",
              "            <dl>\n",
              "              <dt>Version</dt>\n",
              "                <dd><code>v3.2.0</code></dd>\n",
              "              <dt>Master</dt>\n",
              "                <dd><code>local[*]</code></dd>\n",
              "              <dt>AppName</dt>\n",
              "                <dd><code>MyApp</code></dd>\n",
              "            </dl>\n",
              "        </div>\n",
              "        "
            ]
          },
          "metadata": {},
          "execution_count": 4
        }
      ]
    },
    {
      "cell_type": "code",
      "source": [
        "from google.colab import drive\n",
        "drive.mount('/content/drive')"
      ],
      "metadata": {
        "colab": {
          "base_uri": "https://localhost:8080/"
        },
        "id": "S94uaysAlaLb",
        "outputId": "db56977f-9c6f-44fb-a883-033d17e2cd98"
      },
      "execution_count": 5,
      "outputs": [
        {
          "output_type": "stream",
          "name": "stdout",
          "text": [
            "Mounted at /content/drive\n"
          ]
        }
      ]
    },
    {
      "cell_type": "code",
      "source": [
        "train_df =  spark.read.csv(\"/content/drive/MyDrive/Patient_nonresampled_traindata_1.csv\", header=True, inferSchema=True)"
      ],
      "metadata": {
        "id": "yN1Vpldrlv0g"
      },
      "execution_count": 7,
      "outputs": []
    },
    {
      "cell_type": "code",
      "source": [
        "test_df =  spark.read.csv(\"/content/drive/MyDrive/Patient_non_resampled_testdata_1.csv\", header=True, inferSchema=True)"
      ],
      "metadata": {
        "id": "7968_IO9376U"
      },
      "execution_count": 8,
      "outputs": []
    },
    {
      "cell_type": "code",
      "source": [
        "from pyspark.ml.feature import VectorAssembler\n",
        "from pyspark.sql.functions import col\n"
      ],
      "metadata": {
        "id": "SeOtE_oA3_BM"
      },
      "execution_count": 9,
      "outputs": []
    },
    {
      "cell_type": "code",
      "source": [
        "# Define the input and output columns\n",
        "input_cols = [c for c in train_df.columns if c != 'hospital_death']\n",
        "assembler = VectorAssembler(inputCols=input_cols, outputCol=\"features\")\n"
      ],
      "metadata": {
        "id": "rznyBtes4C1r"
      },
      "execution_count": 10,
      "outputs": []
    },
    {
      "cell_type": "code",
      "source": [
        "# Assemble the input data for training set\n",
        "train_assembled = assembler.transform(train_df).select(col(\"hospital_death\").alias(\"label\"), col(\"features\"))\n",
        "\n",
        "# Assemble the input data for test set\n",
        "test_assembled = assembler.transform(test_df).select(col(\"hospital_death\").alias(\"label\"), col(\"features\"))"
      ],
      "metadata": {
        "id": "E389gT9V4EtO"
      },
      "execution_count": 11,
      "outputs": []
    },
    {
      "cell_type": "markdown",
      "source": [
        "# Models"
      ],
      "metadata": {
        "id": "2gDU19P_Cj5-"
      }
    },
    {
      "cell_type": "code",
      "source": [
        "from pyspark.ml.classification import RandomForestClassifier\n",
        "from pyspark.ml.evaluation import BinaryClassificationEvaluator\n",
        "from pyspark.ml.tuning import CrossValidator, ParamGridBuilder\n",
        "from pyspark.ml.feature import VectorAssembler\n",
        "from pyspark.sql.functions import col\n"
      ],
      "metadata": {
        "id": "Z65-S6h6Cojr"
      },
      "execution_count": 12,
      "outputs": []
    },
    {
      "cell_type": "markdown",
      "source": [
        "Random Forest "
      ],
      "metadata": {
        "id": "YxHxkrQjn0Rk"
      }
    },
    {
      "cell_type": "code",
      "source": [
        "# Define the random forest model\n",
        "rf = RandomForestClassifier()\n",
        "\n",
        "# Define the parameter grid to search over\n",
        "paramGrid = ParamGridBuilder() \\\n",
        "    .addGrid(rf.numTrees, [10, 50, 100]) \\\n",
        "    .addGrid(rf.maxDepth, [5, 10, 20]) \\\n",
        "    .build()\n",
        "\n",
        "# Define the cross validator\n",
        "cv = CrossValidator(estimator=rf,\n",
        "                    estimatorParamMaps=paramGrid,\n",
        "                    evaluator=BinaryClassificationEvaluator(),\n",
        "                    numFolds=5)\n",
        "\n",
        "# Train the model using the cross validator and the training data\n",
        "rf_cvModel = cv.fit(train)\n",
        "\n",
        "# Predict on the training data and evaluate accuracy\n",
        "train_preds = rf_cvModel.transform(train)\n",
        "train_accuracy = train_preds.filter(train_preds.label == train_preds.prediction).count() / float(train_preds.count())\n",
        "print(\"Training Accuracy: {}\".format(train_accuracy))\n",
        "\n",
        "# Predict on the test data and evaluate accuracy\n",
        "test_preds = rf_cvModel.transform(test)\n",
        "test_accuracy = test_preds.filter(test_preds.label == test_preds.prediction).count() / float(test_preds.count())\n",
        "print(\"Test Accuracy: {}\".format(test_accuracy))"
      ],
      "metadata": {
        "colab": {
          "base_uri": "https://localhost:8080/"
        },
        "id": "TcrmbLzmnzTz",
        "outputId": "11d10e22-7af8-45be-ba8c-4d5e1cacb6e6"
      },
      "execution_count": 21,
      "outputs": [
        {
          "output_type": "stream",
          "name": "stdout",
          "text": [
            "Training Accuracy: 0.936161823271953\n",
            "Test Accuracy: 0.9256282191353208\n"
          ]
        }
      ]
    },
    {
      "cell_type": "code",
      "source": [
        "import seaborn as sns\n",
        "import pandas as pd\n",
        "import matplotlib.pyplot as plt\n",
        "\n",
        "# Get the predictions and labels as a Pandas DataFrame\n",
        "test_preds_df = test_preds.select(['prediction', 'label']).toPandas()\n",
        "\n",
        "# Create a confusion matrix using Pandas\n",
        "confusion_matrix = pd.crosstab(test_preds_df['label'], test_preds_df['prediction'], rownames=['Actual'], colnames=['Predicted'])\n",
        "\n",
        "# Plot the confusion matrix using Seaborn\n",
        "sns.heatmap(confusion_matrix, annot=True, cmap='Blues', fmt='g')\n",
        "plt.title(\"Test Confusion Matrix\")\n",
        "plt.show()\n"
      ],
      "metadata": {
        "colab": {
          "base_uri": "https://localhost:8080/",
          "height": 472
        },
        "id": "DYiUFJd0aCtP",
        "outputId": "f2b24559-57a8-4f97-db71-b44693394b3d"
      },
      "execution_count": 22,
      "outputs": [
        {
          "output_type": "display_data",
          "data": {
            "text/plain": [
              "<Figure size 640x480 with 2 Axes>"
            ],
            "image/png": "[encoded data removed]"
          },
          "metadata": {}
        }
      ]
    },
    {
      "cell_type": "code",
      "source": [
        "from pyspark.ml.evaluation import MulticlassClassificationEvaluator\n",
        "\n",
        "# Define the evaluator with 'f1' metric\n",
        "evaluator = MulticlassClassificationEvaluator(metricName='f1')\n",
        "\n",
        "# Get the F1 score for the test data\n",
        "test_f1 = evaluator.evaluate(test_preds)\n",
        "print(\"Test F1 Score: {}\".format(test_f1))\n"
      ],
      "metadata": {
        "colab": {
          "base_uri": "https://localhost:8080/"
        },
        "id": "sm1JL_ZRabYa",
        "outputId": "38347871-1822-4b4a-9083-af6e7134b7af"
      },
      "execution_count": 23,
      "outputs": [
        {
          "output_type": "stream",
          "name": "stdout",
          "text": [
            "Test F1 Score: 0.9028916855912631\n"
          ]
        }
      ]
    },
    {
      "cell_type": "markdown",
      "source": [
        "Logistic regression without cv"
      ],
      "metadata": {
        "id": "5n49zFX6aka_"
      }
    },
    {
      "cell_type": "code",
      "source": [
        "from pyspark.ml.classification import LogisticRegression\n",
        "from pyspark.ml.evaluation import BinaryClassificationEvaluator\n",
        "\n",
        "# Define the logistic regression model\n",
        "lr = LogisticRegression(featuresCol=\"features\", labelCol=\"label\")\n",
        "\n",
        "# Train the model using the training data\n",
        "lrModel_withoutCV = lr.fit(train_assembled)\n",
        "\n",
        "# Predict on the training data and evaluate accuracy\n",
        "train_preds_lr = lrModel_withoutCV.transform(train_assembled)\n",
        "train_accuracy_lr = train_preds_lr.filter(train_preds_lr.label == train_preds_lr.prediction).count() / float(train_preds_lr.count())\n",
        "print(\"Training Accuracy: {}\".format(train_accuracy_lr))\n",
        "\n",
        "# Predict on the test data and evaluate accuracy\n",
        "test_preds_lr = lrModel_withoutCV.transform(test_assembled)\n",
        "test_accuracy_lr = test_preds_lr.filter(test_preds_lr.label == test_preds_lr.prediction).count() / float(test_preds_lr.count())\n",
        "print(\"Test Accuracy: {}\".format(test_accuracy_lr))\n"
      ],
      "metadata": {
        "colab": {
          "base_uri": "https://localhost:8080/"
        },
        "id": "TmGzfL5tanZs",
        "outputId": "ed38cfe9-2af6-4146-c7bc-1561640bc1a8"
      },
      "execution_count": 14,
      "outputs": [
        {
          "output_type": "stream",
          "name": "stdout",
          "text": [
            "Training Accuracy: 0.9222484541877459\n",
            "Test Accuracy: 0.9195215361208751\n"
          ]
        }
      ]
    },
    {
      "cell_type": "code",
      "source": [
        "import seaborn as sns\n",
        "import pandas as pd\n",
        "import matplotlib.pyplot as plt\n",
        "\n",
        "# Get the predictions and labels as a Pandas DataFrame\n",
        "test_preds_df_lr = test_preds_lr.select(['prediction', 'label']).toPandas()\n",
        "\n",
        "# Create a confusion matrix using Pandas\n",
        "confusion_matrix = pd.crosstab(test_preds_df_lr['label'], test_preds_df_lr['prediction'], rownames=['Actual'], colnames=['Predicted'])\n",
        "\n",
        "# Plot the confusion matrix using Seaborn\n",
        "sns.heatmap(confusion_matrix, annot=True, cmap='Blues', fmt='g')\n",
        "plt.title(\"Test Confusion Matrix\")\n",
        "plt.show()\n"
      ],
      "metadata": {
        "colab": {
          "base_uri": "https://localhost:8080/",
          "height": 472
        },
        "id": "rDBn3Lc7bETJ",
        "outputId": "d88846c7-b0fe-4284-bd6c-b57faf01a8ad"
      },
      "execution_count": 15,
      "outputs": [
        {
          "output_type": "display_data",
          "data": {
            "text/plain": [
              "<Figure size 640x480 with 2 Axes>"
            ],
            "image/png": "[encoded data removed]"
          },
          "metadata": {}
        }
      ]
    },
    {
      "cell_type": "code",
      "source": [
        "from pyspark.ml.evaluation import MulticlassClassificationEvaluator\n",
        "\n",
        "# Define the evaluator with 'f1' metric\n",
        "evaluator = MulticlassClassificationEvaluator(metricName='f1')\n",
        "\n",
        "# Get the F1 score for the test data\n",
        "test_f1_lr = evaluator.evaluate(test_preds_lr)\n",
        "print(\"Test F1 Score: {}\".format(test_f1_lr))"
      ],
      "metadata": {
        "colab": {
          "base_uri": "https://localhost:8080/"
        },
        "id": "QgMAmqDfbR9g",
        "outputId": "cbfb4926-37c3-4243-e229-c611f81740b2"
      },
      "execution_count": 16,
      "outputs": [
        {
          "output_type": "stream",
          "name": "stdout",
          "text": [
            "Test F1 Score: 0.8999721456701857\n"
          ]
        }
      ]
    },
    {
      "cell_type": "markdown",
      "source": [
        "Neural Network"
      ],
      "metadata": {
        "id": "JW8WcMM7bT2p"
      }
    },
    {
      "cell_type": "code",
      "source": [
        "from pyspark.ml.classification import MultilayerPerceptronClassifier\n",
        "from pyspark.ml.evaluation import MulticlassClassificationEvaluator\n",
        "from pyspark.ml.tuning import CrossValidator, ParamGridBuilder\n",
        "\n",
        "# Define the MLP model\n",
        "layers = [len(input_cols), 64, 64, 2] # define the number of neurons in each layer\n",
        "mlp = MultilayerPerceptronClassifier(maxIter=100, layers=layers, blockSize=128,seed=1234)\n",
        "\n",
        "# Train the model using the training data\n",
        "mlp_Model = mlp.fit(train_assembled)\n",
        "\n",
        "# Predict on the training data and evaluate accuracy\n",
        "train_preds_mlp = mlp_Model.transform(train_assembled)\n",
        "train_accuracy_mlp = train_preds_mlp.filter(train_preds_mlp.label == train_preds_mlp.prediction).count() / float(train_preds_mlp.count())\n",
        "print(\"Training Accuracy: {}\".format(train_accuracy_mlp))\n",
        "\n",
        "# Predict on the test data and evaluate accuracy\n",
        "test_preds_mlp = mlp_Model.transform(test_assembled)\n",
        "test_accuracy_mlp = test_preds_mlp.filter(test_preds_mlp.label == test_preds_mlp.prediction).count() / float(test_preds_mlp.count())\n",
        "print(\"Test Accuracy: {}\".format(test_accuracy_mlp))\n"
      ],
      "metadata": {
        "colab": {
          "base_uri": "https://localhost:8080/"
        },
        "id": "dGklM-xBbVoQ",
        "outputId": "bcf1d41b-855b-48b7-a52d-f6dd72f3c698"
      },
      "execution_count": 15,
      "outputs": [
        {
          "output_type": "stream",
          "name": "stdout",
          "text": [
            "Training Accuracy: 0.9193029792017987\n",
            "Test Accuracy: 0.9181050312155711\n"
          ]
        }
      ]
    },
    {
      "cell_type": "code",
      "source": [
        "import seaborn as sns\n",
        "import pandas as pd\n",
        "import matplotlib.pyplot as plt\n",
        "\n",
        "# Get the predictions and labels as a Pandas DataFrame\n",
        "test_preds_df = test_preds_mlp.select(['prediction', 'label']).toPandas()\n",
        "\n",
        "# Create a confusion matrix using Pandas\n",
        "confusion_matrix = pd.crosstab(test_preds_df['label'], test_preds_df['prediction'], rownames=['Actual'], colnames=['Predicted'])\n",
        "\n",
        "# Plot the confusion matrix using Seaborn\n",
        "sns.heatmap(confusion_matrix, annot=True, cmap='Blues', fmt='g')\n",
        "plt.title(\"Test Confusion Matrix\")\n",
        "plt.show()\n"
      ],
      "metadata": {
        "colab": {
          "base_uri": "https://localhost:8080/",
          "height": 561
        },
        "id": "cTVERIivchQa",
        "outputId": "02d32a08-f793-45cc-a6a1-5083b0965101"
      },
      "execution_count": 16,
      "outputs": [
        {
          "output_type": "stream",
          "name": "stderr",
          "text": [
            "Exception ignored in: <function JavaWrapper.__del__ at 0x7f7ab3061160>\n",
            "Traceback (most recent call last):\n",
            "  File \"/content/spark-3.2.0-bin-hadoop3.2/python/pyspark/ml/wrapper.py\", line 39, in __del__\n",
            "    if SparkContext._active_spark_context and self._java_obj is not None:\n",
            "AttributeError: 'MultilayerPerceptronClassifier' object has no attribute '_java_obj'\n"
          ]
        },
        {
          "output_type": "display_data",
          "data": {
            "text/plain": [
              "<Figure size 640x480 with 2 Axes>"
            ],
            "image/png": "[encoded data removed]"
          },
          "metadata": {}
        }
      ]
    },
    {
      "cell_type": "code",
      "source": [
        "from pyspark.ml.evaluation import MulticlassClassificationEvaluator\n",
        "\n",
        "# Define the evaluator with 'f1' metric\n",
        "evaluator = MulticlassClassificationEvaluator(metricName='f1')\n",
        "\n",
        "# Get the F1 score for the test data\n",
        "test_f1_mlp = evaluator.evaluate(test_preds_mlp)\n",
        "print(\"Test F1 Score: {}\".format(test_f1_mlp))\n"
      ],
      "metadata": {
        "colab": {
          "base_uri": "https://localhost:8080/"
        },
        "id": "a-kBBwaZcso4",
        "outputId": "e734f451-c86f-4ff6-a924-7c108c89b7db"
      },
      "execution_count": 17,
      "outputs": [
        {
          "output_type": "stream",
          "name": "stdout",
          "text": [
            "Test F1 Score: 0.891622603677237\n"
          ]
        }
      ]
    },
    {
      "cell_type": "markdown",
      "source": [
        "RF Without CV"
      ],
      "metadata": {
        "id": "6YbYtxLqcujL"
      }
    },
    {
      "cell_type": "code",
      "source": [
        "\n",
        "\n",
        "# Define the random forest classifier\n",
        "rf = RandomForestClassifier(featuresCol=\"features\", labelCol=\"label\")\n",
        "\n",
        "\n",
        "# Train the model using the cross validator and the training data\n",
        "rf_Model = rf.fit(train_assembled)\n",
        "\n",
        "# Predict on the training data and evaluate accuracy\n",
        "train_preds = rf_Model.transform(train_assembled)\n",
        "train_accuracy = train_preds.filter(train_preds.label == train_preds.prediction).count() / float(train_preds.count())\n",
        "print(\"Training Accuracy: {}\".format(train_accuracy))\n",
        "\n",
        "# Predict on the test data and evaluate accuracy\n",
        "test_preds = rf_Model.transform(test_assembled)\n",
        "test_accuracy = test_preds.filter(test_preds.label == test_preds.prediction).count() / float(test_preds.count())\n",
        "print(\"Test Accuracy: {}\".format(test_accuracy))"
      ],
      "metadata": {
        "colab": {
          "base_uri": "https://localhost:8080/"
        },
        "id": "yohGLLN_cwF3",
        "outputId": "0695f533-84c7-4de4-871e-cb8506d5509b"
      },
      "execution_count": 20,
      "outputs": [
        {
          "output_type": "stream",
          "name": "stdout",
          "text": [
            "Training Accuracy: 0.9201573917931423\n",
            "Test Accuracy: 0.9201510938565658\n"
          ]
        }
      ]
    },
    {
      "cell_type": "code",
      "source": [
        "import seaborn as sns\n",
        "import pandas as pd\n",
        "import matplotlib.pyplot as plt\n",
        "\n",
        "# Get the predictions and labels as a Pandas DataFrame\n",
        "test_preds_df = test_preds.select(['prediction', 'label']).toPandas()\n",
        "\n",
        "# Create a confusion matrix using Pandas\n",
        "confusion_matrix = pd.crosstab(test_preds_df['label'], test_preds_df['prediction'], rownames=['Actual'], colnames=['Predicted'])\n",
        "\n",
        "# Plot the confusion matrix using Seaborn\n",
        "sns.heatmap(confusion_matrix, annot=True, cmap='Blues', fmt='g')\n",
        "plt.title(\"Test Confusion Matrix\")\n",
        "plt.show()\n"
      ],
      "metadata": {
        "colab": {
          "base_uri": "https://localhost:8080/",
          "height": 472
        },
        "id": "P6tqcBnudaFZ",
        "outputId": "830f1225-92a3-49e7-b8e6-43895c3b9195"
      },
      "execution_count": 21,
      "outputs": [
        {
          "output_type": "display_data",
          "data": {
            "text/plain": [
              "<Figure size 640x480 with 2 Axes>"
            ],
            "image/png": "[encoded data removed]"
          },
          "metadata": {}
        }
      ]
    },
    {
      "cell_type": "code",
      "source": [
        "from pyspark.ml.evaluation import MulticlassClassificationEvaluator\n",
        "\n",
        "# Define the evaluator with 'f1' metric\n",
        "evaluator = MulticlassClassificationEvaluator(metricName='f1')\n",
        "\n",
        "# Get the F1 score for the test data\n",
        "test_f1 = evaluator.evaluate(test_preds)\n",
        "print(\"Test F1 Score: {}\".format(test_f1))\n"
      ],
      "metadata": {
        "colab": {
          "base_uri": "https://localhost:8080/"
        },
        "id": "eoCmcoeDdcTS",
        "outputId": "b3cca7d1-bcce-4c46-bc10-f71b73e557d9"
      },
      "execution_count": 22,
      "outputs": [
        {
          "output_type": "stream",
          "name": "stdout",
          "text": [
            "Test F1 Score: 0.8888623000187721\n"
          ]
        }
      ]
    },
    {
      "cell_type": "code",
      "source": [],
      "metadata": {
        "id": "h9mOcGzb5bBF"
      },
      "execution_count": null,
      "outputs": []
    }
  ]
}