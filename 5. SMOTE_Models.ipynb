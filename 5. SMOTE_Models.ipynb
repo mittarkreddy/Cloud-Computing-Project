{
  "nbformat": 4,
  "nbformat_minor": 0,
  "metadata": {
    "colab": {
      "provenance": [],
      "gpuType": "T4"
    },
    "kernelspec": {
      "name": "python3",
      "display_name": "Python 3"
    },
    "language_info": {
      "name": "python"
    },
    "gpuClass": "standard",
    "accelerator": "GPU"
  },
  "cells": [
    {
      "cell_type": "code",
      "execution_count": 1,
      "metadata": {
        "id": "_AjdOBW5yfW6"
      },
      "outputs": [],
      "source": [
        "!apt-get install openjdk-8-jdk-headless -qq > /dev/null\n",
        "!wget -q https://archive.apache.org/dist/spark/spark-3.2.0/spark-3.2.0-bin-hadoop3.2.tgz\n",
        "!tar xf spark-3.2.0-bin-hadoop3.2.tgz\n",
        "!pip install -q findspark"
      ]
    },
    {
      "cell_type": "code",
      "source": [
        "import os\n",
        "os.environ[\"JAVA_HOME\"] = \"/usr/lib/jvm/java-8-openjdk-amd64\"\n",
        "os.environ[\"SPARK_HOME\"] = \"spark-3.2.0-bin-hadoop3.2\""
      ],
      "metadata": {
        "id": "BBYGH9sjyhpE"
      },
      "execution_count": 2,
      "outputs": []
    },
    {
      "cell_type": "code",
      "source": [
        "import findspark\n",
        "findspark.init()"
      ],
      "metadata": {
        "id": "o8Ms7H85yn51"
      },
      "execution_count": 3,
      "outputs": []
    },
    {
      "cell_type": "code",
      "source": [
        "from pyspark.sql import SparkSession\n",
        "\n",
        "spark = SparkSession.builder \\\n",
        "    .appName(\"MyApp\") \\\n",
        "    .config(\"spark.driver.memory\", \"8g\") \\\n",
        "    .config(\"spark.executor.memory\", \"8g\") \\\n",
        "    .getOrCreate()\n",
        "sc = spark.sparkContext\n",
        "sc"
      ],
      "metadata": {
        "colab": {
          "base_uri": "https://localhost:8080/",
          "height": 197
        },
        "id": "Xi7KlXIvypmF",
        "outputId": "b5feb4b9-cb79-4b5f-a265-6b8f5418d95f"
      },
      "execution_count": 4,
      "outputs": [
        {
          "output_type": "execute_result",
          "data": {
            "text/plain": [
              "<SparkContext master=local[*] appName=MyApp>"
            ],
            "text/html": [
              "\n",
              "        <div>\n",
              "            <p><b>SparkContext</b></p>\n",
              "\n",
              "            <p><a href=\"http://4e0cbb9e798e:4040\">Spark UI</a></p>\n",
              "\n",
              "            <dl>\n",
              "              <dt>Version</dt>\n",
              "                <dd><code>v3.2.0</code></dd>\n",
              "              <dt>Master</dt>\n",
              "                <dd><code>local[*]</code></dd>\n",
              "              <dt>AppName</dt>\n",
              "                <dd><code>MyApp</code></dd>\n",
              "            </dl>\n",
              "        </div>\n",
              "        "
            ]
          },
          "metadata": {},
          "execution_count": 4
        }
      ]
    },
    {
      "cell_type": "code",
      "source": [
        "from google.colab import drive\n",
        "drive.mount('/content/drive')"
      ],
      "metadata": {
        "colab": {
          "base_uri": "https://localhost:8080/"
        },
        "id": "qtzaTJhSy0Gz",
        "outputId": "925c37b6-af12-4d50-be79-d0a8e4936424"
      },
      "execution_count": 5,
      "outputs": [
        {
          "output_type": "stream",
          "name": "stdout",
          "text": [
            "Mounted at /content/drive\n"
          ]
        }
      ]
    },
    {
      "cell_type": "code",
      "source": [],
      "metadata": {
        "id": "QQGq6AmL13dn"
      },
      "execution_count": null,
      "outputs": []
    },
    {
      "cell_type": "markdown",
      "source": [
        "# Reading Data"
      ],
      "metadata": {
        "id": "RCdLfEDuy5ov"
      }
    },
    {
      "cell_type": "code",
      "source": [],
      "metadata": {
        "id": "V9rMVwJXOdvF"
      },
      "execution_count": null,
      "outputs": []
    },
    {
      "cell_type": "code",
      "source": [
        "train_df =  spark.read.csv(\"/content/drive/MyDrive/Patient_resampled_traindata_2.csv\", header=True, inferSchema=True)"
      ],
      "metadata": {
        "id": "9VEZsJlZy7XC"
      },
      "execution_count": 6,
      "outputs": []
    },
    {
      "cell_type": "code",
      "source": [
        "test_df =  spark.read.csv(\"/content/drive/MyDrive/Patient_non_resampled_testdata_2.csv\", header=True, inferSchema=True)"
      ],
      "metadata": {
        "id": "WmYPAhaUy-mK"
      },
      "execution_count": 7,
      "outputs": []
    },
    {
      "cell_type": "code",
      "source": [
        "train_df.count()"
      ],
      "metadata": {
        "colab": {
          "base_uri": "https://localhost:8080/"
        },
        "id": "zBctd9q4zGne",
        "outputId": "a65b873c-9365-4692-81e3-4269ddae1be7"
      },
      "execution_count": 8,
      "outputs": [
        {
          "output_type": "execute_result",
          "data": {
            "text/plain": [
              "81390"
            ]
          },
          "metadata": {},
          "execution_count": 8
        }
      ]
    },
    {
      "cell_type": "code",
      "source": [
        "from pyspark.sql.functions import count, desc, when\n",
        "\n",
        "train_df.groupBy('hospital_death') \\\n",
        "  .agg(count('*').alias('count')) \\\n",
        "  .orderBy(desc('count')) \\\n",
        "  .show()"
      ],
      "metadata": {
        "colab": {
          "base_uri": "https://localhost:8080/"
        },
        "id": "u8KAoaLVzEqv",
        "outputId": "d4cabf81-1675-4576-c43a-bb0e50eebfca"
      },
      "execution_count": 9,
      "outputs": [
        {
          "output_type": "stream",
          "name": "stdout",
          "text": [
            "+--------------+-----+\n",
            "|hospital_death|count|\n",
            "+--------------+-----+\n",
            "|             1|40695|\n",
            "|             0|40695|\n",
            "+--------------+-----+\n",
            "\n"
          ]
        }
      ]
    },
    {
      "cell_type": "code",
      "source": [
        "from pyspark.ml.feature import VectorAssembler\n",
        "from pyspark.sql.functions import col\n",
        "from pyspark.ml.classification import RandomForestClassifier\n",
        "from pyspark.ml.classification import LogisticRegression\n",
        "from pyspark.ml.classification import MultilayerPerceptronClassifier\n",
        "from pyspark.ml.evaluation import BinaryClassificationEvaluator\n",
        "from pyspark.ml.evaluation import MulticlassClassificationEvaluator\n"
      ],
      "metadata": {
        "id": "m0iBuaOmzLap"
      },
      "execution_count": 15,
      "outputs": []
    },
    {
      "cell_type": "code",
      "source": [
        "# Define the input and output columns\n",
        "input_cols = [c for c in train_df.columns if c != 'hospital_death']\n",
        "assembler = VectorAssembler(inputCols=input_cols, outputCol=\"features\")\n"
      ],
      "metadata": {
        "id": "KgEOx6KVzNkq"
      },
      "execution_count": 16,
      "outputs": []
    },
    {
      "cell_type": "code",
      "source": [
        "# Assemble the input data for training set\n",
        "train_assembled = assembler.transform(train_df).select(col(\"hospital_death\").alias(\"label\"), col(\"features\"))\n",
        "\n",
        "# Assemble the input data for test set\n",
        "test_assembled = assembler.transform(test_df).select(col(\"hospital_death\").alias(\"label\"), col(\"features\"))"
      ],
      "metadata": {
        "id": "iMqhJr2HzPu1"
      },
      "execution_count": 17,
      "outputs": []
    },
    {
      "cell_type": "markdown",
      "source": [
        "# Models With SMOTE"
      ],
      "metadata": {
        "id": "iYk8e21myuKs"
      }
    },
    {
      "cell_type": "markdown",
      "source": [
        "Random Forest Without Cross Validation"
      ],
      "metadata": {
        "id": "SiDjNDOR6iPo"
      }
    },
    {
      "cell_type": "code",
      "source": [
        "from pyspark.ml.classification import RandomForestClassifier\n",
        "from pyspark.ml.evaluation import BinaryClassificationEvaluator\n",
        "\n",
        "\n",
        "# Define the random forest model\n",
        "rf = RandomForestClassifier(numTrees=100, maxDepth=20)\n",
        "\n",
        "# Train the model using the training data\n",
        "rfModel_withoutCV = rf.fit(train_assembled)\n",
        "\n",
        "# Predict on the training data and evaluate accuracy\n",
        "train_preds = rfModel_withoutCV.transform(train_assembled)\n",
        "train_accuracy = train_preds.filter(train_preds.label == train_preds.prediction).count() / float(train_preds.count())\n",
        "print(\"Training Accuracy: {}\".format(train_accuracy))\n",
        "\n",
        "# Predict on the test data and evaluate accuracy\n",
        "test_preds = rfModel_withoutCV.transform(test_assembled)\n",
        "test_accuracy = test_preds.filter(test_preds.label == test_preds.prediction).count() / float(test_preds.count())\n",
        "print(\"Test Accuracy: {}\".format(test_accuracy))\n"
      ],
      "metadata": {
        "colab": {
          "base_uri": "https://localhost:8080/"
        },
        "id": "1Dh6xqQMzbDz",
        "outputId": "9d83431e-217e-4a64-e6cf-c37c1f29c60a"
      },
      "execution_count": 26,
      "outputs": [
        {
          "output_type": "stream",
          "name": "stdout",
          "text": [
            "Training Accuracy: 0.9964491952328296\n",
            "Test Accuracy: 0.8749803263207596\n"
          ]
        }
      ]
    },
    {
      "cell_type": "code",
      "source": [
        "import seaborn as sns\n",
        "import pandas as pd\n",
        "import matplotlib.pyplot as plt\n",
        "\n",
        "# Get the predictions and labels as a Pandas DataFrame\n",
        "test_preds_df = test_preds.select(['prediction', 'label']).toPandas()\n",
        "\n",
        "# Create a confusion matrix using Pandas\n",
        "confusion_matrix = pd.crosstab(test_preds_df['label'], test_preds_df['prediction'], rownames=['Actual'], colnames=['Predicted'])\n",
        "\n",
        "# Plot the confusion matrix using Seaborn\n",
        "sns.heatmap(confusion_matrix, annot=True, cmap='Blues', fmt='g')\n",
        "plt.title(\"Test Confusion Matrix\")\n",
        "plt.show()\n"
      ],
      "metadata": {
        "colab": {
          "base_uri": "https://localhost:8080/",
          "height": 472
        },
        "id": "7ZzWbgrb8R23",
        "outputId": "9a139112-7caf-4035-bd49-0134d0a1bab9"
      },
      "execution_count": 27,
      "outputs": [
        {
          "output_type": "display_data",
          "data": {
            "text/plain": [
              "<Figure size 640x480 with 2 Axes>"
            ],
            "image/png": "[encoded data removed]"
          },
          "metadata": {}
        }
      ]
    },
    {
      "cell_type": "code",
      "source": [
        "from pyspark.ml.evaluation import MulticlassClassificationEvaluator\n",
        "\n",
        "# Define the evaluator with 'f1' metric\n",
        "evaluator = MulticlassClassificationEvaluator(metricName='f1')\n",
        "\n",
        "# Get the F1 score for the test data\n",
        "test_f1 = evaluator.evaluate(test_preds)\n",
        "print(\"Test F1 Score: {}\".format(test_f1))\n"
      ],
      "metadata": {
        "colab": {
          "base_uri": "https://localhost:8080/"
        },
        "id": "__wgJmPE-JjX",
        "outputId": "b8899ddf-dbd3-4821-ac12-a36844684810"
      },
      "execution_count": 15,
      "outputs": [
        {
          "output_type": "stream",
          "name": "stdout",
          "text": [
            "Test F1 Score: 0.8861590713210914\n"
          ]
        }
      ]
    },
    {
      "cell_type": "markdown",
      "source": [
        "Logistic Regression Without Cross Validation"
      ],
      "metadata": {
        "id": "Y4Nh_-2k6gD1"
      }
    },
    {
      "cell_type": "code",
      "source": [
        "from pyspark.ml.classification import LogisticRegression\n",
        "from pyspark.ml.evaluation import BinaryClassificationEvaluator\n",
        "\n",
        "# Define the logistic regression model\n",
        "lr = LogisticRegression(featuresCol=\"features\", labelCol=\"label\")\n",
        "\n",
        "# Train the model using the training data\n",
        "lrModel_withoutCV = lr.fit(train_assembled)\n",
        "\n",
        "# Predict on the training data and evaluate accuracy\n",
        "train_preds_lr = lrModel_withoutCV.transform(train_assembled)\n",
        "train_accuracy_lr = train_preds_lr.filter(train_preds_lr.label == train_preds_lr.prediction).count() / float(train_preds_lr.count())\n",
        "print(\"Training Accuracy: {}\".format(train_accuracy_lr))\n",
        "\n",
        "# Predict on the test data and evaluate accuracy\n",
        "test_preds_lr = lrModel_withoutCV.transform(test_assembled)\n",
        "test_accuracy_lr = test_preds_lr.filter(test_preds_lr.label == test_preds_lr.prediction).count() / float(test_preds_lr.count())\n",
        "print(\"Test Accuracy: {}\".format(test_accuracy_lr))\n"
      ],
      "metadata": {
        "colab": {
          "base_uri": "https://localhost:8080/"
        },
        "id": "oRUuqodt6qcT",
        "outputId": "6fe4490e-140e-4b9d-d20b-24922081b354"
      },
      "execution_count": 23,
      "outputs": [
        {
          "output_type": "stream",
          "name": "stdout",
          "text": [
            "Training Accuracy: 0.8963631895810296\n",
            "Test Accuracy: 0.882430092859766\n"
          ]
        }
      ]
    },
    {
      "cell_type": "code",
      "source": [
        "import seaborn as sns\n",
        "import pandas as pd\n",
        "import matplotlib.pyplot as plt\n",
        "\n",
        "# Get the predictions and labels as a Pandas DataFrame\n",
        "test_preds_df_lr = test_preds_lr.select(['prediction', 'label']).toPandas()\n",
        "\n",
        "# Create a confusion matrix using Pandas\n",
        "confusion_matrix = pd.crosstab(test_preds_df_lr['label'], test_preds_df_lr['prediction'], rownames=['Actual'], colnames=['Predicted'])\n",
        "\n",
        "# Plot the confusion matrix using Seaborn\n",
        "sns.heatmap(confusion_matrix, annot=True, cmap='Blues', fmt='g')\n",
        "plt.title(\"Test Confusion Matrix\")\n",
        "plt.show()\n"
      ],
      "metadata": {
        "colab": {
          "base_uri": "https://localhost:8080/",
          "height": 472
        },
        "id": "InD2unDs_qJK",
        "outputId": "b9fb8087-53f9-44cd-b2e6-8a1a0af0452e"
      },
      "execution_count": 24,
      "outputs": [
        {
          "output_type": "display_data",
          "data": {
            "text/plain": [
              "<Figure size 640x480 with 2 Axes>"
            ],
            "image/png": "[encoded data removed]"
          },
          "metadata": {}
        }
      ]
    },
    {
      "cell_type": "code",
      "source": [
        "from pyspark.ml.evaluation import MulticlassClassificationEvaluator\n",
        "\n",
        "# Define the evaluator with 'f1' metric\n",
        "evaluator = MulticlassClassificationEvaluator(metricName='f1')\n",
        "\n",
        "# Get the F1 score for the test data\n",
        "test_f1_lr = evaluator.evaluate(test_preds_lr)\n",
        "print(\"Test F1 Score: {}\".format(test_f1_lr))"
      ],
      "metadata": {
        "colab": {
          "base_uri": "https://localhost:8080/"
        },
        "id": "sRk_Ut0z_8CM",
        "outputId": "5a1697d6-a9ba-4739-ffca-634f3d395645"
      },
      "execution_count": 25,
      "outputs": [
        {
          "output_type": "stream",
          "name": "stdout",
          "text": [
            "Test F1 Score: 0.8882900137866502\n"
          ]
        }
      ]
    },
    {
      "cell_type": "markdown",
      "source": [
        "Neural Network"
      ],
      "metadata": {
        "id": "COiVFX_pepdq"
      }
    },
    {
      "cell_type": "code",
      "source": [
        "from pyspark.ml.classification import MultilayerPerceptronClassifier\n",
        "from pyspark.ml.evaluation import MulticlassClassificationEvaluator\n",
        "from pyspark.ml.tuning import CrossValidator, ParamGridBuilder\n",
        "\n",
        "# Define the MLP model\n",
        "layers = [len(input_cols), 64, 64, 2] # define the number of neurons in each layer\n",
        "mlp = MultilayerPerceptronClassifier(maxIter=100, layers=layers, blockSize=128, seed=1234)\n",
        "\n",
        "# Train the model using the training data\n",
        "mlp_Model_1 = mlp.fit(train_assembled)\n"
      ],
      "metadata": {
        "id": "414JHfmbes_1"
      },
      "execution_count": 19,
      "outputs": []
    },
    {
      "cell_type": "code",
      "source": [
        "# Predict on the training data and evaluate accuracy\n",
        "train_preds_mlp = mlp_Model_1.transform(train_assembled)\n",
        "train_accuracy_mlp = train_preds_mlp.filter(train_preds_mlp.label == train_preds_mlp.prediction).count() / float(train_preds_mlp.count())\n",
        "print(\"Training Accuracy: {}\".format(train_accuracy_mlp))\n",
        "\n",
        "# Predict on the test data and evaluate accuracy\n",
        "test_preds_mlp = mlp_Model_1.transform(test_assembled)\n",
        "test_accuracy_mlp = test_preds_mlp.filter(test_preds_mlp.label == test_preds_mlp.prediction).count() / float(test_preds_mlp.count())\n",
        "print(\"Test Accuracy: {}\".format(test_accuracy_mlp))\n"
      ],
      "metadata": {
        "colab": {
          "base_uri": "https://localhost:8080/"
        },
        "id": "aB9APj-efmg9",
        "outputId": "0b2efb9b-5723-4e48-9fc9-23f6504a3985"
      },
      "execution_count": 20,
      "outputs": [
        {
          "output_type": "stream",
          "name": "stdout",
          "text": [
            "Training Accuracy: 0.7754761027153213\n",
            "Test Accuracy: 0.7492786317611878\n"
          ]
        }
      ]
    },
    {
      "cell_type": "code",
      "source": [
        "import seaborn as sns\n",
        "import pandas as pd\n",
        "import matplotlib.pyplot as plt\n",
        "\n",
        "# Get the predictions and labels as a Pandas DataFrame\n",
        "test_preds_df = test_preds_mlp.select(['prediction', 'label']).toPandas()\n",
        "\n",
        "# Create a confusion matrix using Pandas\n",
        "confusion_matrix = pd.crosstab(test_preds_df['label'], test_preds_df['prediction'], rownames=['Actual'], colnames=['Predicted'])\n",
        "\n",
        "# Plot the confusion matrix using Seaborn\n",
        "sns.heatmap(confusion_matrix, annot=True, cmap='Blues', fmt='g')\n",
        "plt.title(\"Test Confusion Matrix\")\n",
        "plt.show()\n"
      ],
      "metadata": {
        "colab": {
          "base_uri": "https://localhost:8080/",
          "height": 472
        },
        "id": "CGL-xvsKgAfK",
        "outputId": "87fe32fd-11a0-4757-ed7a-e0bb7538c9e9"
      },
      "execution_count": 21,
      "outputs": [
        {
          "output_type": "display_data",
          "data": {
            "text/plain": [
              "<Figure size 640x480 with 2 Axes>"
            ],
            "image/png": "[encoded data removed]"
          },
          "metadata": {}
        }
      ]
    },
    {
      "cell_type": "code",
      "source": [
        "from pyspark.ml.evaluation import MulticlassClassificationEvaluator\n",
        "\n",
        "# Define the evaluator with 'f1' metric\n",
        "evaluator = MulticlassClassificationEvaluator(metricName='f1')\n",
        "\n",
        "# Get the F1 score for the test data\n",
        "test_f1_mlp = evaluator.evaluate(test_preds_mlp)\n",
        "print(\"Test F1 Score: {}\".format(test_f1_mlp))\n"
      ],
      "metadata": {
        "colab": {
          "base_uri": "https://localhost:8080/"
        },
        "id": "AA8dOPlqk_ii",
        "outputId": "6f07a4a1-6b7a-4650-e631-90afb06e012e"
      },
      "execution_count": 22,
      "outputs": [
        {
          "output_type": "stream",
          "name": "stdout",
          "text": [
            "Test F1 Score: 0.8024100618797616\n"
          ]
        }
      ]
    }
  ]
}